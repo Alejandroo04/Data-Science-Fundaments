{
  "nbformat": 4,
  "nbformat_minor": 0,
  "metadata": {
    "colab": {
      "name": "numpy_challenge.ipynb",
      "provenance": [],
      "include_colab_link": true
    },
    "kernelspec": {
      "name": "python3",
      "display_name": "Python 3"
    }
  },
  "cells": [
    {
      "cell_type": "markdown",
      "metadata": {
        "id": "view-in-github",
        "colab_type": "text"
      },
      "source": [
        "<a href=\"https://colab.research.google.com/github/Alejandroo04/Data-Science-Fundaments/blob/main/chapter_04/numpy_challenge.ipynb\" target=\"_parent\"><img src=\"https://colab.research.google.com/assets/colab-badge.svg\" alt=\"Open In Colab\"/></a>"
      ]
    },
    {
      "cell_type": "markdown",
      "metadata": {
        "id": "sVyBG_cKTAwL"
      },
      "source": [
        "#NumPy Challenge"
      ]
    },
    {
      "cell_type": "markdown",
      "metadata": {
        "id": "NSnRQUO1RDEh"
      },
      "source": [
        "Create a NumPy ndarray object by using this list of numbers [7,8,4,5,1,2].\n"
      ]
    },
    {
      "cell_type": "code",
      "metadata": {
        "id": "P-2GBUw-Q60r",
        "colab": {
          "base_uri": "https://localhost:8080/"
        },
        "outputId": "14b0321a-a0fe-498c-8286-adebc02e684e"
      },
      "source": [
        "import numpy as np\n",
        "\n",
        "numbers_list = [7, 8, 4, 5, 1, 2]\n",
        "num_array = np.array(numbers_list)\n",
        "\n",
        "print(num_array)\n"
      ],
      "execution_count": 1,
      "outputs": [
        {
          "output_type": "stream",
          "name": "stdout",
          "text": [
            "[7 8 4 5 1 2]\n"
          ]
        }
      ]
    },
    {
      "cell_type": "markdown",
      "metadata": {
        "id": "zSoe7IVrQ9Gw"
      },
      "source": [
        "Using slicing print the elements from index 3 to the end of the array.\n",
        "\n"
      ]
    },
    {
      "cell_type": "code",
      "metadata": {
        "id": "XUVmHemyRM_K",
        "colab": {
          "base_uri": "https://localhost:8080/"
        },
        "outputId": "4f54a2eb-0f44-4b86-e13c-d30dc1b84bfa"
      },
      "source": [
        "import numpy as np\n",
        "\n",
        "numbers_list = [7, 8, 4, 5, 1, 2]\n",
        "num_array = np.array(numbers_list)\n",
        "\n",
        "sliced_array = num_array[3:]\n",
        "print(sliced_array)\n"
      ],
      "execution_count": 2,
      "outputs": [
        {
          "output_type": "stream",
          "name": "stdout",
          "text": [
            "[5 1 2]\n"
          ]
        }
      ]
    },
    {
      "cell_type": "markdown",
      "metadata": {
        "id": "DejW1hk-ROcM"
      },
      "source": [
        "Using slicing print all the elements except the last one.\n",
        "\n"
      ]
    },
    {
      "cell_type": "code",
      "metadata": {
        "id": "W-1sPgknSbQg",
        "colab": {
          "base_uri": "https://localhost:8080/"
        },
        "outputId": "45ccafb8-b3dd-424f-a106-57c596c38717"
      },
      "source": [
        "import numpy as np\n",
        "\n",
        "numbers_list = [7, 8, 4, 5, 1, 2]\n",
        "num_array = np.array(numbers_list)\n",
        "\n",
        "sliced_array = num_array[:-1]\n",
        "print(sliced_array)\n"
      ],
      "execution_count": 3,
      "outputs": [
        {
          "output_type": "stream",
          "name": "stdout",
          "text": [
            "[7 8 4 5 1]\n"
          ]
        }
      ]
    },
    {
      "cell_type": "markdown",
      "metadata": {
        "id": "kTE3PxezRSFu"
      },
      "source": [
        "Using slicing print the elements from index 1 to index 4 of the array.\n",
        "\n"
      ]
    },
    {
      "cell_type": "code",
      "metadata": {
        "id": "KyuRjCKBRWNO",
        "colab": {
          "base_uri": "https://localhost:8080/"
        },
        "outputId": "3af12a76-6ed7-4c1b-cf38-dc4c2d861faf"
      },
      "source": [
        "import numpy as np\n",
        "\n",
        "numbers_list = [7, 8, 4, 5, 1, 2]\n",
        "num_array = np.array(numbers_list)\n",
        "\n",
        "sliced_array = num_array[1:5]\n",
        "print(sliced_array)\n"
      ],
      "execution_count": 4,
      "outputs": [
        {
          "output_type": "stream",
          "name": "stdout",
          "text": [
            "[8 4 5 1]\n"
          ]
        }
      ]
    },
    {
      "cell_type": "markdown",
      "metadata": {
        "id": "HlHIAmE3RW9U"
      },
      "source": [
        "Reshape the array into a 3 rows and 2 cols (3,2).\n",
        "\n"
      ]
    },
    {
      "cell_type": "code",
      "metadata": {
        "id": "Mh65VUorRZV6",
        "colab": {
          "base_uri": "https://localhost:8080/"
        },
        "outputId": "fefdb5ba-75e0-4ecd-c29f-1f87af6c47d6"
      },
      "source": [
        "import numpy as np\n",
        "\n",
        "numbers_list = [7, 8, 4, 5, 1, 2]\n",
        "num_array = np.array(numbers_list)\n",
        "\n",
        "reshaped_array = num_array.reshape(3, 2)\n",
        "print(reshaped_array)\n"
      ],
      "execution_count": 5,
      "outputs": [
        {
          "output_type": "stream",
          "name": "stdout",
          "text": [
            "[[7 8]\n",
            " [4 5]\n",
            " [1 2]]\n"
          ]
        }
      ]
    },
    {
      "cell_type": "markdown",
      "metadata": {
        "id": "7EA2AxnKRZ-B"
      },
      "source": [
        "Print all the array elements one by one (iterating).\n",
        "\n"
      ]
    },
    {
      "cell_type": "code",
      "metadata": {
        "id": "NA_5SBc9SFNn",
        "colab": {
          "base_uri": "https://localhost:8080/"
        },
        "outputId": "c242c5a1-5724-4f96-8a91-a80c5c547654"
      },
      "source": [
        "import numpy as np\n",
        "\n",
        "numbers_list = [7, 8, 4, 5, 1, 2]\n",
        "num_array = np.array(numbers_list)\n",
        "\n",
        "for element in num_array:\n",
        "    print(element)\n"
      ],
      "execution_count": 6,
      "outputs": [
        {
          "output_type": "stream",
          "name": "stdout",
          "text": [
            "7\n",
            "8\n",
            "4\n",
            "5\n",
            "1\n",
            "2\n"
          ]
        }
      ]
    },
    {
      "cell_type": "markdown",
      "metadata": {
        "id": "gmDsX1y1RcsQ"
      },
      "source": [
        "Create a new NumPy ndarray object by using this list of numbers [0,6,9].\n",
        "\n"
      ]
    },
    {
      "cell_type": "code",
      "metadata": {
        "id": "VmE_QUleSD_P",
        "colab": {
          "base_uri": "https://localhost:8080/"
        },
        "outputId": "58e89368-680b-4e4d-dda1-0b1d6710a492"
      },
      "source": [
        "import numpy as np\n",
        "\n",
        "new_numbers_list = [0, 6, 9]\n",
        "new_num_array = np.array(new_numbers_list)\n",
        "\n",
        "print(new_num_array)\n"
      ],
      "execution_count": 7,
      "outputs": [
        {
          "output_type": "stream",
          "name": "stdout",
          "text": [
            "[0 6 9]\n"
          ]
        }
      ]
    },
    {
      "cell_type": "markdown",
      "metadata": {
        "id": "jloT--lqRf7j"
      },
      "source": [
        "Join the two arrays.\n",
        "\n"
      ]
    },
    {
      "cell_type": "code",
      "metadata": {
        "id": "unD39X5dSDSn",
        "colab": {
          "base_uri": "https://localhost:8080/"
        },
        "outputId": "4a01ac88-3b8c-432e-c4ac-03580748994e"
      },
      "source": [
        "import numpy as np\n",
        "\n",
        "numbers_list = [7, 8, 4, 5, 1, 2]\n",
        "new_numbers_list = [0, 6, 9]\n",
        "\n",
        "num_array = np.array(numbers_list)\n",
        "new_num_array = np.array(new_numbers_list)\n",
        "\n",
        "concatenated_array = np.concatenate((num_array, new_num_array))\n",
        "print(concatenated_array)\n"
      ],
      "execution_count": 8,
      "outputs": [
        {
          "output_type": "stream",
          "name": "stdout",
          "text": [
            "[7 8 4 5 1 2 0 6 9]\n"
          ]
        }
      ]
    },
    {
      "cell_type": "markdown",
      "metadata": {
        "id": "XfoeRhPERjPR"
      },
      "source": [
        "Using filtering print only the odd numbers of the joined array.\n",
        "\n"
      ]
    },
    {
      "cell_type": "code",
      "metadata": {
        "id": "Be-oEmWNSCKG",
        "colab": {
          "base_uri": "https://localhost:8080/"
        },
        "outputId": "1bbde7ba-96f6-40d3-bb12-4b650b21e04b"
      },
      "source": [
        "import numpy as np\n",
        "\n",
        "numbers_list = [7, 8, 4, 5, 1, 2]\n",
        "new_numbers_list = [0, 6, 9]\n",
        "\n",
        "num_array = np.array(numbers_list)\n",
        "new_num_array = np.array(new_numbers_list)\n",
        "\n",
        "concatenated_array = np.concatenate((num_array, new_num_array))\n",
        "\n",
        "odd_numbers = concatenated_array[concatenated_array % 2 != 0]\n",
        "print(odd_numbers)\n"
      ],
      "execution_count": 9,
      "outputs": [
        {
          "output_type": "stream",
          "name": "stdout",
          "text": [
            "[7 5 1 9]\n"
          ]
        }
      ]
    },
    {
      "cell_type": "markdown",
      "metadata": {
        "id": "cMZHbF4JRlwJ"
      },
      "source": [
        "Sort the joined array elements.\n",
        "\n"
      ]
    },
    {
      "cell_type": "code",
      "metadata": {
        "id": "d3ta_UTjSBb3",
        "colab": {
          "base_uri": "https://localhost:8080/"
        },
        "outputId": "c182142e-1df2-466b-f959-b57d605efc3c"
      },
      "source": [
        "import numpy as np\n",
        "\n",
        "numbers_list = [7, 8, 4, 5, 1, 2]\n",
        "new_numbers_list = [0, 6, 9]\n",
        "\n",
        "num_array = np.array(numbers_list)\n",
        "new_num_array = np.array(new_numbers_list)\n",
        "\n",
        "concatenated_array = np.concatenate((num_array, new_num_array))\n",
        "\n",
        "sorted_array = np.sort(concatenated_array)\n",
        "print(sorted_array)\n"
      ],
      "execution_count": 10,
      "outputs": [
        {
          "output_type": "stream",
          "name": "stdout",
          "text": [
            "[0 1 2 4 5 6 7 8 9]\n"
          ]
        }
      ]
    },
    {
      "cell_type": "markdown",
      "metadata": {
        "id": "F0u9Tf_pRoKR"
      },
      "source": [
        "Store in an array the names of the months.\n",
        "\n"
      ]
    },
    {
      "cell_type": "code",
      "metadata": {
        "id": "a6trOwrmSAg6",
        "colab": {
          "base_uri": "https://localhost:8080/"
        },
        "outputId": "8c90c2c3-5585-4b84-e9d8-a26e29fd2664"
      },
      "source": [
        "import numpy as np\n",
        "\n",
        "months = np.array([\n",
        "    \"January\", \"February\", \"March\", \"April\", \"May\", \"June\",\n",
        "    \"July\", \"August\", \"September\", \"October\", \"November\", \"December\"\n",
        "])\n",
        "\n",
        "print(months)\n",
        "\n"
      ],
      "execution_count": 11,
      "outputs": [
        {
          "output_type": "stream",
          "name": "stdout",
          "text": [
            "['January' 'February' 'March' 'April' 'May' 'June' 'July' 'August'\n",
            " 'September' 'October' 'November' 'December']\n"
          ]
        }
      ]
    },
    {
      "cell_type": "markdown",
      "metadata": {
        "id": "zMHje9-zRqrR"
      },
      "source": [
        "Split the months array in 4 periods of 3 elements each one.\n",
        "\n"
      ]
    },
    {
      "cell_type": "code",
      "metadata": {
        "id": "jht0_5-iR_xn",
        "colab": {
          "base_uri": "https://localhost:8080/"
        },
        "outputId": "196b0eea-ab08-478e-fb38-650dad9ffdbd"
      },
      "source": [
        "import numpy as np\n",
        "\n",
        "months = np.array([\n",
        "    \"January\", \"February\", \"March\", \"April\", \"May\", \"June\",\n",
        "    \"July\", \"August\", \"September\", \"October\", \"November\", \"December\"\n",
        "])\n",
        "\n",
        "split_periods = np.split(months, 4)\n",
        "\n",
        "for period in split_periods:\n",
        "    print(period)\n"
      ],
      "execution_count": 12,
      "outputs": [
        {
          "output_type": "stream",
          "name": "stdout",
          "text": [
            "['January' 'February' 'March']\n",
            "['April' 'May' 'June']\n",
            "['July' 'August' 'September']\n",
            "['October' 'November' 'December']\n"
          ]
        }
      ]
    },
    {
      "cell_type": "markdown",
      "metadata": {
        "id": "ukxoOg5rRtkJ"
      },
      "source": [
        "Create an array with genre information ['F','M','F','F','M','F'].\n",
        "\n"
      ]
    },
    {
      "cell_type": "code",
      "metadata": {
        "id": "GZLCMD2OR-4G",
        "colab": {
          "base_uri": "https://localhost:8080/"
        },
        "outputId": "5f26c461-3952-47d0-ff43-6bc3d7037b05"
      },
      "source": [
        "import numpy as np\n",
        "\n",
        "gender_array = np.array(['F', 'M', 'F', 'F', 'M', 'F'])\n",
        "\n",
        "print(gender_array)\n"
      ],
      "execution_count": 13,
      "outputs": [
        {
          "output_type": "stream",
          "name": "stdout",
          "text": [
            "['F' 'M' 'F' 'F' 'M' 'F']\n"
          ]
        }
      ]
    },
    {
      "cell_type": "markdown",
      "metadata": {
        "id": "VlLwuy-ERvzu"
      },
      "source": [
        "Find the indexes where the value is F.\n",
        "\n"
      ]
    },
    {
      "cell_type": "code",
      "metadata": {
        "id": "dx0LCoSAR9-w",
        "colab": {
          "base_uri": "https://localhost:8080/"
        },
        "outputId": "313e28a1-367f-46ca-f61c-8faa9f1f21ad"
      },
      "source": [
        "import numpy as np\n",
        "\n",
        "gender_array = np.array(['F', 'M', 'F', 'F', 'M', 'F'])\n",
        "\n",
        "indexes_of_F = np.where(gender_array == 'F')[0]\n",
        "\n",
        "print(\"Indexes where the value is 'F':\", indexes_of_F)\n"
      ],
      "execution_count": 14,
      "outputs": [
        {
          "output_type": "stream",
          "name": "stdout",
          "text": [
            "Indexes where the value is 'F': [0 2 3 5]\n"
          ]
        }
      ]
    },
    {
      "cell_type": "markdown",
      "metadata": {
        "id": "y0Uk475sRytB"
      },
      "source": [
        "Store in an array the age information [18,20,19,23,19,20].\n",
        "\n"
      ]
    },
    {
      "cell_type": "code",
      "metadata": {
        "id": "tABLVP7gR9QP",
        "colab": {
          "base_uri": "https://localhost:8080/"
        },
        "outputId": "6c2eb00f-0fc8-4415-961a-9426d3c48fdb"
      },
      "source": [
        "import numpy as np\n",
        "\n",
        "age_array = np.array([18, 20, 19, 23, 19, 20])\n",
        "\n",
        "print(age_array)\n"
      ],
      "execution_count": 15,
      "outputs": [
        {
          "output_type": "stream",
          "name": "stdout",
          "text": [
            "[18 20 19 23 19 20]\n"
          ]
        }
      ]
    },
    {
      "cell_type": "markdown",
      "metadata": {
        "id": "D-VswLqJR05A"
      },
      "source": [
        "Create a filter array with values < 20.\n",
        "\n"
      ]
    },
    {
      "cell_type": "code",
      "metadata": {
        "id": "tk4jIi3pR8aZ",
        "colab": {
          "base_uri": "https://localhost:8080/"
        },
        "outputId": "77494275-fa85-4222-938b-33bf973ed344"
      },
      "source": [
        "import numpy as np\n",
        "\n",
        "age_array = np.array([18, 20, 19, 23, 19, 20])\n",
        "filter_array = age_array < 20\n",
        "\n",
        "print(filter_array)\n"
      ],
      "execution_count": 16,
      "outputs": [
        {
          "output_type": "stream",
          "name": "stdout",
          "text": [
            "[ True False  True False  True False]\n"
          ]
        }
      ]
    },
    {
      "cell_type": "markdown",
      "metadata": {
        "id": "aiGbZbwHR3CJ"
      },
      "source": [
        "Change the 3 index element with a value of 22\n",
        "\n"
      ]
    },
    {
      "cell_type": "code",
      "metadata": {
        "id": "OMpH-wT6R7iK",
        "colab": {
          "base_uri": "https://localhost:8080/"
        },
        "outputId": "4e1428f0-6c42-46db-8331-1e6a898dccb7"
      },
      "source": [
        "import numpy as np\n",
        "\n",
        "age_array = np.array([18, 20, 19, 23, 19, 20])\n",
        "age_array[3] = 22\n",
        "\n",
        "print(age_array)\n"
      ],
      "execution_count": 17,
      "outputs": [
        {
          "output_type": "stream",
          "name": "stdout",
          "text": [
            "[18 20 19 22 19 20]\n"
          ]
        }
      ]
    },
    {
      "cell_type": "markdown",
      "metadata": {
        "id": "0DELnRV_R5Df"
      },
      "source": [
        "Print the 4 index element."
      ]
    },
    {
      "cell_type": "code",
      "metadata": {
        "id": "SOg99cxZR6ZX",
        "colab": {
          "base_uri": "https://localhost:8080/"
        },
        "outputId": "225bf38d-3a3b-4315-a849-69d13305d084"
      },
      "source": [
        "import numpy as np\n",
        "\n",
        "age_array = np.array([18, 20, 19, 23, 19, 20])\n",
        "element_at_index_4 = age_array[3]\n",
        "\n",
        "print(\"Element at index 4:\", element_at_index_4)\n"
      ],
      "execution_count": 18,
      "outputs": [
        {
          "output_type": "stream",
          "name": "stdout",
          "text": [
            "Element at index 4: 23\n"
          ]
        }
      ]
    }
  ]
}